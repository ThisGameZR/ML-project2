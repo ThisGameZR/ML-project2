{
  "nbformat": 4,
  "nbformat_minor": 0,
  "metadata": {
    "colab": {
      "provenance": []
    },
    "kernelspec": {
      "name": "python3",
      "display_name": "Python 3"
    },
    "language_info": {
      "name": "python"
    }
  },
  "cells": [
    {
      "cell_type": "code",
      "execution_count": 25,
      "metadata": {
        "colab": {
          "base_uri": "https://localhost:8080/",
          "height": 722
        },
        "id": "f8nRu_TrueCP",
        "outputId": "bf45f0cd-c391-4e72-b005-0c6549569cea"
      },
      "outputs": [
        {
          "output_type": "execute_result",
          "data": {
            "text/plain": [
              "<matplotlib.axes._subplots.AxesSubplot at 0x7fcdc8d2ee20>"
            ]
          },
          "metadata": {},
          "execution_count": 25
        },
        {
          "output_type": "display_data",
          "data": {
            "text/plain": [
              "<Figure size 864x864 with 2 Axes>"
            ],
            "image/png": "[encoded data removed]"
          },
          "metadata": {
            "needs_background": "light"
          }
        }
      ],
      "source": [
        "import pandas as pd\n",
        "import seaborn as sns\n",
        "import matplotlib.pyplot as plt\n",
        "\n",
        "data = pd.read_csv('fruit.csv').iloc[:,1:]\n",
        "data.dropna()\n",
        "\n",
        "corr_matrix = data.corr().round(2)\n",
        "fig, ax = plt.subplots(figsize=(12, 12))\n",
        "sns.heatmap(corr_matrix, annot=True, cmap='coolwarm', ax=ax)"
      ]
    },
    {
      "cell_type": "code",
      "source": [
        "from sklearn.model_selection import train_test_split\n",
        "from sklearn.pipeline import Pipeline\n",
        "from sklearn.neighbors import KNeighborsClassifier\n",
        "from sklearn.preprocessing import StandardScaler\n",
        "import pandas as pd\n",
        "\n",
        "# Data preprocesing\n",
        "data['mass_width'] = data['mass'] + data['width']\n",
        "\n",
        "# Extract the features and target variable\n",
        "X = data[['mass_width', 'height', 'color_score']]\n",
        "y = data['class']\n",
        "\n",
        "# Split your data into training and testing sets\n",
        "X_train, X_test, y_train, y_test = train_test_split(X, y, test_size=0.4, random_state=42)\n",
        "\n",
        "# Create a pipeline with a StandardScaler and KNeighborsClassifier\n",
        "pipeline = Pipeline([\n",
        "    ('scaler', StandardScaler()),\n",
        "    ('knn', KNeighborsClassifier(n_neighbors=10))\n",
        "])\n",
        "\n",
        "# Fit the pipeline on your training data\n",
        "pipeline.fit(X_train, y_train)"
      ],
      "metadata": {
        "colab": {
          "base_uri": "https://localhost:8080/"
        },
        "id": "Odz62jr_vYsU",
        "outputId": "8adc1ce2-5b6a-4d5f-d65e-e7e12425807d"
      },
      "execution_count": 26,
      "outputs": [
        {
          "output_type": "execute_result",
          "data": {
            "text/plain": [
              "Pipeline(steps=[('scaler', StandardScaler()),\n",
              "                ('knn', KNeighborsClassifier(n_neighbors=10))])"
            ]
          },
          "metadata": {},
          "execution_count": 26
        }
      ]
    },
    {
      "cell_type": "code",
      "source": [
        "from sklearn.metrics import classification_report\n",
        "from sklearn.metrics import confusion_matrix\n",
        "from sklearn.metrics import roc_auc_score\n",
        "\n",
        "\n",
        "ypred_test = pipeline.predict(X_test)\n",
        "mat_clf = confusion_matrix(y_test, ypred_test)\n",
        "report_clf = classification_report(y_test, ypred_test, zero_division=1)\n",
        "\n",
        "print(mat_clf)\n",
        "print(report_clf)\n",
        "\n",
        "ypred_testP = pipeline.predict_proba(X_test)\n",
        "try:\n",
        "  auc = roc_auc_score(y_test, ypred_testP, multi_class='ovr')\n",
        "  print(auc)\n",
        "except:\n",
        "  print('error')\n",
        "  pass"
      ],
      "metadata": {
        "colab": {
          "base_uri": "https://localhost:8080/"
        },
        "id": "BHZocFegwk4O",
        "outputId": "b31862fe-01f0-4703-cdbe-a0fbb2cf6d66"
      },
      "execution_count": 35,
      "outputs": [
        {
          "output_type": "stream",
          "name": "stdout",
          "text": [
            "[[4 0 2 0]\n",
            " [0 0 4 0]\n",
            " [0 0 5 0]\n",
            " [0 0 8 1]]\n",
            "              precision    recall  f1-score   support\n",
            "\n",
            "           1       1.00      0.67      0.80         6\n",
            "           2       1.00      0.00      0.00         4\n",
            "           3       0.26      1.00      0.42         5\n",
            "           4       1.00      0.11      0.20         9\n",
            "\n",
            "    accuracy                           0.42        24\n",
            "   macro avg       0.82      0.44      0.35        24\n",
            "weighted avg       0.85      0.42      0.36        24\n",
            "\n",
            "0.9631335282651072\n"
          ]
        }
      ]
    },
    {
      "cell_type": "code",
      "source": [
        "from joblib import dump\n",
        "dump(pipeline, 'model.pkl')"
      ],
      "metadata": {
        "colab": {
          "base_uri": "https://localhost:8080/"
        },
        "id": "y-vBfZXDxGVg",
        "outputId": "7dd1df84-4534-4e27-e15a-5f06af483d74"
      },
      "execution_count": 28,
      "outputs": [
        {
          "output_type": "execute_result",
          "data": {
            "text/plain": [
              "['model.pkl']"
            ]
          },
          "metadata": {},
          "execution_count": 28
        }
      ]
    }
  ]
}